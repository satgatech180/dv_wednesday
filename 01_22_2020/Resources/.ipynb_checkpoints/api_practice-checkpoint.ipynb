{
 "cells": [
  {
   "cell_type": "code",
   "execution_count": 1,
   "metadata": {},
   "outputs": [],
   "source": [
    "import requests\n",
    "#requests is a library to get data from api's\n",
    "#get is a request method(basically a function)\n",
    "#diggerent types of requests: get, post, patch, delete\n",
    "#get is used to get information form the api\n",
    "import matplotlib.pyplot as plt\n",
    "import json\n",
    "from pprint import pprint\n",
    "import pandas as pd\n",
    "import numpy as np\n",
    "import csv"
   ]
  },
  {
   "cell_type": "code",
   "execution_count": 2,
   "metadata": {},
   "outputs": [
    {
     "name": "stdout",
     "output_type": "stream",
     "text": [
      "{'type': 'success',\n",
      " 'value': {'categories': [],\n",
      "           'id': 261,\n",
      "           'joke': 'Never look a gift Chuck Norris in the mouth, because he '\n",
      "                   'will bite your damn eyes off.'}}\n"
     ]
    }
   ],
   "source": [
    "url=\"http://api.icndb.com/jokes/random\"\n",
    "one_joke=requests.get(url).json()\n",
    "pprint(one_joke)"
   ]
  },
  {
   "cell_type": "code",
   "execution_count": 3,
   "metadata": {},
   "outputs": [
    {
     "name": "stdout",
     "output_type": "stream",
     "text": [
      "{'categories': [],\n",
      " 'id': 261,\n",
      " 'joke': 'Never look a gift Chuck Norris in the mouth, because he will bite '\n",
      "         'your damn eyes off.'}\n"
     ]
    }
   ],
   "source": [
    "#access the value of one joke\n",
    "pprint(one_joke[\"value\"])"
   ]
  },
  {
   "cell_type": "code",
   "execution_count": 4,
   "metadata": {},
   "outputs": [
    {
     "name": "stdout",
     "output_type": "stream",
     "text": [
      "{'type': 'success',\n",
      " 'value': [{'categories': [],\n",
      "            'id': 274,\n",
      "            'joke': 'One time, Chuck Norris accidentally stubbed his toe. It '\n",
      "                    'destroyed the entire state of Ohio.'},\n",
      "           {'categories': [],\n",
      "            'id': 426,\n",
      "            'joke': \"A man once taunted Chuck Norris with a bag of Lay's \"\n",
      "                    \"potato chips, saying &quot;Betcha can't eat just \"\n",
      "                    'one!&quot; Chuck Norris proceeded to eat the chips, the '\n",
      "                    'bag, and the man in one deft move.'},\n",
      "           {'categories': [],\n",
      "            'id': 187,\n",
      "            'joke': \"# Chuck Norris's show is called Walker: Texas Ranger, \"\n",
      "                    \"because Chuck Norris doesn't run.\"}]}\n"
     ]
    }
   ],
   "source": [
    "#access multiple jokes\n",
    "murl=\"http://api.icndb.com/jokes/random/3\"\n",
    "multi_joke = requests.get(murl).json()\n",
    "pprint(multi_joke)"
   ]
  },
  {
   "cell_type": "code",
   "execution_count": 5,
   "metadata": {},
   "outputs": [
    {
     "name": "stdout",
     "output_type": "stream",
     "text": [
      "[{'categories': [],\n",
      "  'id': 274,\n",
      "  'joke': 'One time, Chuck Norris accidentally stubbed his toe. It destroyed '\n",
      "          'the entire state of Ohio.'},\n",
      " {'categories': [],\n",
      "  'id': 426,\n",
      "  'joke': \"A man once taunted Chuck Norris with a bag of Lay's potato chips, \"\n",
      "          \"saying &quot;Betcha can't eat just one!&quot; Chuck Norris \"\n",
      "          'proceeded to eat the chips, the bag, and the man in one deft move.'},\n",
      " {'categories': [],\n",
      "  'id': 187,\n",
      "  'joke': \"# Chuck Norris's show is called Walker: Texas Ranger, because Chuck \"\n",
      "          \"Norris doesn't run.\"}]\n"
     ]
    }
   ],
   "source": [
    "#extarct the data\n",
    "pprint(multi_joke[\"value\"])"
   ]
  },
  {
   "cell_type": "code",
   "execution_count": 6,
   "metadata": {},
   "outputs": [
    {
     "name": "stdout",
     "output_type": "stream",
     "text": [
      "Joke ID: 274\n",
      "Joke Line: One time, Chuck Norris accidentally stubbed his toe. It destroyed the entire state of Ohio.\n",
      "Joke Line Length(By Character) 91\n",
      "====================================\n",
      "Joke ID: 426\n",
      "Joke Line: A man once taunted Chuck Norris with a bag of Lay's potato chips, saying &quot;Betcha can't eat just one!&quot; Chuck Norris proceeded to eat the chips, the bag, and the man in one deft move.\n",
      "Joke Line Length(By Character) 191\n",
      "====================================\n",
      "Joke ID: 187\n",
      "Joke Line: # Chuck Norris's show is called Walker: Texas Ranger, because Chuck Norris doesn't run.\n",
      "Joke Line Length(By Character) 87\n",
      "====================================\n"
     ]
    }
   ],
   "source": [
    "#we now have a list and want to get something from this list, \n",
    "#need a for loop to access each of the dictionaries in the list\n",
    "\n",
    "jokes = multi_joke[\"value\"]\n",
    "\n",
    "#joke = each dictionary before the comma\n",
    "#for each element in this list\n",
    "for element in jokes:\n",
    "#do these things with them\n",
    "    print(f'Joke ID: {element[\"id\"]}')\n",
    "    print(f'Joke Line: {element[\"joke\"]}')\n",
    "    print(f'Joke Line Length(By Character) {len(element[\"joke\"])}')\n",
    "    print('====================================')\n",
    "          "
   ]
  },
  {
   "cell_type": "code",
   "execution_count": 7,
   "metadata": {},
   "outputs": [
    {
     "name": "stdout",
     "output_type": "stream",
     "text": [
      "[[274, 'One time, Chuck Norris accidentally stubbed his toe. It destroyed the entire state of Ohio.', 91], [426, \"A man once taunted Chuck Norris with a bag of Lay's potato chips, saying &quot;Betcha can't eat just one!&quot; Chuck Norris proceeded to eat the chips, the bag, and the man in one deft move.\", 191], [187, \"# Chuck Norris's show is called Walker: Texas Ranger, because Chuck Norris doesn't run.\", 87]]\n"
     ]
    }
   ],
   "source": [
    "#setup an array for a list for our jokes to be pushed to pandas. then use pandas to plot stuff, then push table to csv and then to matplotlib\n",
    "#Pandas takes a list of dictionaries and manipulates them.\n",
    "#Created empty joke list first that you want to push to, because if you try to create in your loop it wont work. \n",
    "joke_list=[] #= empty list\n",
    "for joke in multi_joke[\"value\"]:\n",
    "    joke_list.append([joke[\"id\"], joke[\"joke\"], len(joke[\"joke\"])])\n",
    "print(joke_list)"
   ]
  },
  {
   "cell_type": "code",
   "execution_count": 8,
   "metadata": {},
   "outputs": [
    {
     "data": {
      "text/html": [
       "<div>\n",
       "<style scoped>\n",
       "    .dataframe tbody tr th:only-of-type {\n",
       "        vertical-align: middle;\n",
       "    }\n",
       "\n",
       "    .dataframe tbody tr th {\n",
       "        vertical-align: top;\n",
       "    }\n",
       "\n",
       "    .dataframe thead th {\n",
       "        text-align: right;\n",
       "    }\n",
       "</style>\n",
       "<table border=\"1\" class=\"dataframe\">\n",
       "  <thead>\n",
       "    <tr style=\"text-align: right;\">\n",
       "      <th></th>\n",
       "      <th>0</th>\n",
       "      <th>1</th>\n",
       "      <th>2</th>\n",
       "    </tr>\n",
       "  </thead>\n",
       "  <tbody>\n",
       "    <tr>\n",
       "      <td>1</td>\n",
       "      <td>426</td>\n",
       "      <td>A man once taunted Chuck Norris with a bag of ...</td>\n",
       "      <td>191</td>\n",
       "    </tr>\n",
       "    <tr>\n",
       "      <td>0</td>\n",
       "      <td>274</td>\n",
       "      <td>One time, Chuck Norris accidentally stubbed hi...</td>\n",
       "      <td>91</td>\n",
       "    </tr>\n",
       "    <tr>\n",
       "      <td>2</td>\n",
       "      <td>187</td>\n",
       "      <td># Chuck Norris's show is called Walker: Texas ...</td>\n",
       "      <td>87</td>\n",
       "    </tr>\n",
       "  </tbody>\n",
       "</table>\n",
       "</div>"
      ],
      "text/plain": [
       "     0                                                  1    2\n",
       "1  426  A man once taunted Chuck Norris with a bag of ...  191\n",
       "0  274  One time, Chuck Norris accidentally stubbed hi...   91\n",
       "2  187  # Chuck Norris's show is called Walker: Texas ...   87"
      ]
     },
     "execution_count": 8,
     "metadata": {},
     "output_type": "execute_result"
    }
   ],
   "source": [
    "#library.method(argument)\n",
    "chuck_data = pd.DataFrame(joke_list)\n",
    "chuck_data.sample(3)"
   ]
  },
  {
   "cell_type": "code",
   "execution_count": 9,
   "metadata": {},
   "outputs": [],
   "source": [
    "#add column labels/values\n",
    "#Index False \n",
    "chuck_data.columns=[\"ID\", \"JOKE\", \"JOKE LENGTH\"]\n",
    "chuck_data.dropna(axis=0, how=\"any\", inplace=True)\n",
    "chuck_data.to_csv(\"../Resources/chucknorris.csv\", index=False, header=True)"
   ]
  },
  {
   "cell_type": "code",
   "execution_count": 10,
   "metadata": {},
   "outputs": [],
   "source": [
    "chuck_csv = \"../Resources/chucknorris.csv\""
   ]
  },
  {
   "cell_type": "code",
   "execution_count": 11,
   "metadata": {},
   "outputs": [
    {
     "data": {
      "text/html": [
       "<div>\n",
       "<style scoped>\n",
       "    .dataframe tbody tr th:only-of-type {\n",
       "        vertical-align: middle;\n",
       "    }\n",
       "\n",
       "    .dataframe tbody tr th {\n",
       "        vertical-align: top;\n",
       "    }\n",
       "\n",
       "    .dataframe thead th {\n",
       "        text-align: right;\n",
       "    }\n",
       "</style>\n",
       "<table border=\"1\" class=\"dataframe\">\n",
       "  <thead>\n",
       "    <tr style=\"text-align: right;\">\n",
       "      <th></th>\n",
       "      <th>ID</th>\n",
       "      <th>JOKE</th>\n",
       "      <th>JOKE LENGTH</th>\n",
       "    </tr>\n",
       "  </thead>\n",
       "  <tbody>\n",
       "    <tr>\n",
       "      <td>0</td>\n",
       "      <td>274</td>\n",
       "      <td>One time, Chuck Norris accidentally stubbed hi...</td>\n",
       "      <td>91</td>\n",
       "    </tr>\n",
       "    <tr>\n",
       "      <td>1</td>\n",
       "      <td>426</td>\n",
       "      <td>A man once taunted Chuck Norris with a bag of ...</td>\n",
       "      <td>191</td>\n",
       "    </tr>\n",
       "    <tr>\n",
       "      <td>2</td>\n",
       "      <td>187</td>\n",
       "      <td># Chuck Norris's show is called Walker: Texas ...</td>\n",
       "      <td>87</td>\n",
       "    </tr>\n",
       "  </tbody>\n",
       "</table>\n",
       "</div>"
      ],
      "text/plain": [
       "    ID                                               JOKE  JOKE LENGTH\n",
       "0  274  One time, Chuck Norris accidentally stubbed hi...           91\n",
       "1  426  A man once taunted Chuck Norris with a bag of ...          191\n",
       "2  187  # Chuck Norris's show is called Walker: Texas ...           87"
      ]
     },
     "execution_count": 11,
     "metadata": {},
     "output_type": "execute_result"
    }
   ],
   "source": [
    "read_file = pd.read_csv(chuck_csv)\n",
    "read_file.head()"
   ]
  },
  {
   "cell_type": "code",
   "execution_count": 13,
   "metadata": {},
   "outputs": [
    {
     "data": {
      "image/png": "[encoded data removed]",
      "text/plain": [
       "<Figure size 432x288 with 1 Axes>"
      ]
     },
     "metadata": {
      "needs_background": "light"
     },
     "output_type": "display_data"
    }
   ],
   "source": [
    "#create a list of xplots. plot the length of the sentences compared to the IDs\n",
    "#Have to set empty lists first because if we dont refernce them outside the loop we would get errors\n",
    "x=[]\n",
    "y=[]\n",
    "\n",
    "#delimiter tells the computer you want to read your file where there are commas\n",
    "with open (\"../Resources/chucknorris.csv\") as csvfile:\n",
    "           plots = csv.reader(csvfile, delimiter=\",\")\n",
    "           for row in plots:\n",
    "                y.append(row[0])\n",
    "                x.append(row[2])\n",
    "plt.plot(x, y, label=\"Chuck Norris Info\")\n",
    "plt.xlabel(\"Joke ID's\")\n",
    "plt.ylabel(\"Joke Lengths\")\n",
    "plt.title(\"Chuck Norries Cool Plots\")\n",
    "plt.legend()\n",
    "plt.show()"
   ]
  },
  {
   "cell_type": "code",
   "execution_count": null,
   "metadata": {},
   "outputs": [],
   "source": []
  }
 ],
 "metadata": {
  "kernelspec": {
   "display_name": "Python 3",
   "language": "python",
   "name": "python3"
  },
  "language_info": {
   "codemirror_mode": {
    "name": "ipython",
    "version": 3
   },
   "file_extension": ".py",
   "mimetype": "text/x-python",
   "name": "python",
   "nbconvert_exporter": "python",
   "pygments_lexer": "ipython3",
   "version": "3.7.4"
  }
 },
 "nbformat": 4,
 "nbformat_minor": 2
}
