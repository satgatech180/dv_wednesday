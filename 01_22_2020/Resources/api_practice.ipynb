{
 "cells": [
  {
   "cell_type": "code",
   "execution_count": 1,
   "metadata": {},
   "outputs": [],
   "source": [
    "import requests\n",
    "#requests is a library to get data from api's\n",
    "#get is a request method(basically a function)\n",
    "#diggerent types of requests: get, post, patch, delete\n",
    "#get is used to get information form the api\n",
    "import matplotlib.pyplot as plt\n",
    "import json\n",
    "from pprint import pprint\n",
    "import pandas as pd\n",
    "import numpy as np\n",
    "import csv"
   ]
  },
  {
   "cell_type": "code",
   "execution_count": 2,
   "metadata": {},
   "outputs": [
    {
     "name": "stdout",
     "output_type": "stream",
     "text": [
      "{'type': 'success',\n",
      " 'value': {'categories': ['nerdy'],\n",
      "           'id': 564,\n",
      "           'joke': 'Chuck Norris can download emails with his pick-up.'}}\n"
     ]
    }
   ],
   "source": [
    "url=\"http://api.icndb.com/jokes/random\"\n",
    "one_joke=requests.get(url).json()\n",
    "pprint(one_joke)"
   ]
  },
  {
   "cell_type": "code",
   "execution_count": 3,
   "metadata": {},
   "outputs": [
    {
     "name": "stdout",
     "output_type": "stream",
     "text": [
      "{'categories': ['nerdy'],\n",
      " 'id': 564,\n",
      " 'joke': 'Chuck Norris can download emails with his pick-up.'}\n"
     ]
    }
   ],
   "source": [
    "#access the value of one joke\n",
    "pprint(one_joke[\"value\"])"
   ]
  },
  {
   "cell_type": "code",
   "execution_count": 4,
   "metadata": {},
   "outputs": [
    {
     "name": "stdout",
     "output_type": "stream",
     "text": [
      "{'type': 'success',\n",
      " 'value': [{'categories': [],\n",
      "            'id': 423,\n",
      "            'joke': 'Chuck Norris had to stop washing his clothes in the '\n",
      "                    'ocean. The tsunamis were killing people.'},\n",
      "           {'categories': [],\n",
      "            'id': 147,\n",
      "            'joke': 'Science Fact: Roundhouse kicks are comprised primarily of '\n",
      "                    'an element called Chucktanium.'},\n",
      "           {'categories': [],\n",
      "            'id': 428,\n",
      "            'joke': 'In the first Jurassic Park movie, the Tyrannosaurus Rex '\n",
      "                    \"wasn't chasing the jeep. Chuck Norris was chasing the \"\n",
      "                    'Tyrannosaurus AND the jeep.'}]}\n"
     ]
    }
   ],
   "source": [
    "#access multiple jokes\n",
    "murl=\"http://api.icndb.com/jokes/random/3\"\n",
    "multi_joke = requests.get(murl).json()\n",
    "pprint(multi_joke)"
   ]
  },
  {
   "cell_type": "code",
   "execution_count": 5,
   "metadata": {},
   "outputs": [
    {
     "name": "stdout",
     "output_type": "stream",
     "text": [
      "[{'categories': [],\n",
      "  'id': 423,\n",
      "  'joke': 'Chuck Norris had to stop washing his clothes in the ocean. The '\n",
      "          'tsunamis were killing people.'},\n",
      " {'categories': [],\n",
      "  'id': 147,\n",
      "  'joke': 'Science Fact: Roundhouse kicks are comprised primarily of an '\n",
      "          'element called Chucktanium.'},\n",
      " {'categories': [],\n",
      "  'id': 428,\n",
      "  'joke': \"In the first Jurassic Park movie, the Tyrannosaurus Rex wasn't \"\n",
      "          'chasing the jeep. Chuck Norris was chasing the Tyrannosaurus AND '\n",
      "          'the jeep.'}]\n"
     ]
    }
   ],
   "source": [
    "#extarct the data\n",
    "pprint(multi_joke[\"value\"])"
   ]
  },
  {
   "cell_type": "code",
   "execution_count": 6,
   "metadata": {},
   "outputs": [
    {
     "name": "stdout",
     "output_type": "stream",
     "text": [
      "Joke ID: 423\n",
      "Joke Line: Chuck Norris had to stop washing his clothes in the ocean. The tsunamis were killing people.\n",
      "Joke Line Length(By Character) 92\n",
      "====================================\n",
      "Joke ID: 147\n",
      "Joke Line: Science Fact: Roundhouse kicks are comprised primarily of an element called Chucktanium.\n",
      "Joke Line Length(By Character) 88\n",
      "====================================\n",
      "Joke ID: 428\n",
      "Joke Line: In the first Jurassic Park movie, the Tyrannosaurus Rex wasn't chasing the jeep. Chuck Norris was chasing the Tyrannosaurus AND the jeep.\n",
      "Joke Line Length(By Character) 137\n",
      "====================================\n"
     ]
    }
   ],
   "source": [
    "#we now have a list and want to get something from this list, \n",
    "#need a for loop to access each of the dictionaries in the list\n",
    "\n",
    "jokes = multi_joke[\"value\"]\n",
    "\n",
    "#joke = each dictionary before the comma\n",
    "#for each element in this list\n",
    "for element in jokes:\n",
    "#do these things with them\n",
    "    print(f'Joke ID: {element[\"id\"]}')\n",
    "    print(f'Joke Line: {element[\"joke\"]}')\n",
    "    print(f'Joke Line Length(By Character) {len(element[\"joke\"])}')\n",
    "    print('====================================')\n",
    "          "
   ]
  },
  {
   "cell_type": "code",
   "execution_count": 7,
   "metadata": {},
   "outputs": [
    {
     "name": "stdout",
     "output_type": "stream",
     "text": [
      "[[423, 'Chuck Norris had to stop washing his clothes in the ocean. The tsunamis were killing people.', 92], [147, 'Science Fact: Roundhouse kicks are comprised primarily of an element called Chucktanium.', 88], [428, \"In the first Jurassic Park movie, the Tyrannosaurus Rex wasn't chasing the jeep. Chuck Norris was chasing the Tyrannosaurus AND the jeep.\", 137]]\n"
     ]
    }
   ],
   "source": [
    "#setup an array for a list for our jokes to be pushed to pandas. then use pandas to plot stuff, then push table to csv and then to matplotlib\n",
    "#Pandas takes a list of dictionaries and manipulates them.\n",
    "#Created empty joke list first that you want to push to, because if you try to create in your loop it wont work. \n",
    "joke_list=[] #= empty list\n",
    "for joke in multi_joke[\"value\"]:\n",
    "    joke_list.append([joke[\"id\"], joke[\"joke\"], len(joke[\"joke\"])])\n",
    "print(joke_list)"
   ]
  },
  {
   "cell_type": "code",
   "execution_count": 8,
   "metadata": {},
   "outputs": [
    {
     "data": {
      "text/html": [
       "<div>\n",
       "<style scoped>\n",
       "    .dataframe tbody tr th:only-of-type {\n",
       "        vertical-align: middle;\n",
       "    }\n",
       "\n",
       "    .dataframe tbody tr th {\n",
       "        vertical-align: top;\n",
       "    }\n",
       "\n",
       "    .dataframe thead th {\n",
       "        text-align: right;\n",
       "    }\n",
       "</style>\n",
       "<table border=\"1\" class=\"dataframe\">\n",
       "  <thead>\n",
       "    <tr style=\"text-align: right;\">\n",
       "      <th></th>\n",
       "      <th>0</th>\n",
       "      <th>1</th>\n",
       "      <th>2</th>\n",
       "    </tr>\n",
       "  </thead>\n",
       "  <tbody>\n",
       "    <tr>\n",
       "      <td>1</td>\n",
       "      <td>147</td>\n",
       "      <td>Science Fact: Roundhouse kicks are comprised p...</td>\n",
       "      <td>88</td>\n",
       "    </tr>\n",
       "    <tr>\n",
       "      <td>0</td>\n",
       "      <td>423</td>\n",
       "      <td>Chuck Norris had to stop washing his clothes i...</td>\n",
       "      <td>92</td>\n",
       "    </tr>\n",
       "    <tr>\n",
       "      <td>2</td>\n",
       "      <td>428</td>\n",
       "      <td>In the first Jurassic Park movie, the Tyrannos...</td>\n",
       "      <td>137</td>\n",
       "    </tr>\n",
       "  </tbody>\n",
       "</table>\n",
       "</div>"
      ],
      "text/plain": [
       "     0                                                  1    2\n",
       "1  147  Science Fact: Roundhouse kicks are comprised p...   88\n",
       "0  423  Chuck Norris had to stop washing his clothes i...   92\n",
       "2  428  In the first Jurassic Park movie, the Tyrannos...  137"
      ]
     },
     "execution_count": 8,
     "metadata": {},
     "output_type": "execute_result"
    }
   ],
   "source": [
    "#library.method(argument)\n",
    "chuck_data = pd.DataFrame(joke_list)\n",
    "chuck_data.sample(3)"
   ]
  },
  {
   "cell_type": "code",
   "execution_count": 9,
   "metadata": {},
   "outputs": [],
   "source": [
    "#add column labels/values\n",
    "#Index False \n",
    "chuck_data.columns=[\"ID\", \"JOKE\", \"JOKE LENGTH\"]\n",
    "chuck_data.dropna(axis=0, how=\"any\", inplace=True)\n",
    "chuck_data.to_csv(\"../Resources/chucknorris.csv\", index=False, header=True)"
   ]
  },
  {
   "cell_type": "code",
   "execution_count": 10,
   "metadata": {},
   "outputs": [],
   "source": [
    "chuck_csv = \"../Resources/chucknorris.csv\""
   ]
  },
  {
   "cell_type": "code",
   "execution_count": 11,
   "metadata": {},
   "outputs": [
    {
     "data": {
      "text/html": [
       "<div>\n",
       "<style scoped>\n",
       "    .dataframe tbody tr th:only-of-type {\n",
       "        vertical-align: middle;\n",
       "    }\n",
       "\n",
       "    .dataframe tbody tr th {\n",
       "        vertical-align: top;\n",
       "    }\n",
       "\n",
       "    .dataframe thead th {\n",
       "        text-align: right;\n",
       "    }\n",
       "</style>\n",
       "<table border=\"1\" class=\"dataframe\">\n",
       "  <thead>\n",
       "    <tr style=\"text-align: right;\">\n",
       "      <th></th>\n",
       "      <th>ID</th>\n",
       "      <th>JOKE</th>\n",
       "      <th>JOKE LENGTH</th>\n",
       "    </tr>\n",
       "  </thead>\n",
       "  <tbody>\n",
       "    <tr>\n",
       "      <td>0</td>\n",
       "      <td>423</td>\n",
       "      <td>Chuck Norris had to stop washing his clothes i...</td>\n",
       "      <td>92</td>\n",
       "    </tr>\n",
       "    <tr>\n",
       "      <td>1</td>\n",
       "      <td>147</td>\n",
       "      <td>Science Fact: Roundhouse kicks are comprised p...</td>\n",
       "      <td>88</td>\n",
       "    </tr>\n",
       "    <tr>\n",
       "      <td>2</td>\n",
       "      <td>428</td>\n",
       "      <td>In the first Jurassic Park movie, the Tyrannos...</td>\n",
       "      <td>137</td>\n",
       "    </tr>\n",
       "  </tbody>\n",
       "</table>\n",
       "</div>"
      ],
      "text/plain": [
       "    ID                                               JOKE  JOKE LENGTH\n",
       "0  423  Chuck Norris had to stop washing his clothes i...           92\n",
       "1  147  Science Fact: Roundhouse kicks are comprised p...           88\n",
       "2  428  In the first Jurassic Park movie, the Tyrannos...          137"
      ]
     },
     "execution_count": 11,
     "metadata": {},
     "output_type": "execute_result"
    }
   ],
   "source": [
    "read_file = pd.read_csv(chuck_csv)\n",
    "read_file.head()"
   ]
  },
  {
   "cell_type": "code",
   "execution_count": 12,
   "metadata": {},
   "outputs": [
    {
     "data": {
      "image/png": "[encoded data removed]",
      "text/plain": [
       "<Figure size 432x288 with 1 Axes>"
      ]
     },
     "metadata": {
      "needs_background": "light"
     },
     "output_type": "display_data"
    }
   ],
   "source": [
    "#create a list of xplots. plot the length of the sentences compared to the IDs\n",
    "#Have to set empty lists first because if we dont refernce them outside the loop we would get errors\n",
    "x=[]\n",
    "y=[]\n",
    "\n",
    "#delimiter tells the computer you want to read your file where there are commas\n",
    "with open (\"../Resources/chucknorris.csv\") as csvfile:\n",
    "           plots = csv.reader(csvfile, delimiter=\",\")\n",
    "           for row in plots:\n",
    "                y.append(row[0])\n",
    "                x.append(row[2])\n",
    "plt.plot(x, y, label=\"Chuck Norris Info\")\n",
    "plt.xlabel(\"Joke ID's\")\n",
    "plt.ylabel(\"Joke Lengths\")\n",
    "plt.title(\"Chuck Norries Cool Plots\")\n",
    "plt.legend()\n",
    "plt.show()"
   ]
  },
  {
   "cell_type": "code",
   "execution_count": 13,
   "metadata": {},
   "outputs": [
    {
     "data": {
      "text/plain": [
       "<matplotlib.collections.PathCollection at 0x24950aff148>"
      ]
     },
     "execution_count": 13,
     "metadata": {},
     "output_type": "execute_result"
    },
    {
     "data": {
      "image/png": "[encoded data removed]",
      "text/plain": [
       "<Figure size 432x288 with 1 Axes>"
      ]
     },
     "metadata": {
      "needs_background": "light"
     },
     "output_type": "display_data"
    }
   ],
   "source": [
    "#create a scatter plot\n",
    "#x_limit sets the width of your table\n",
    "\n",
    "x_limit = 170\n",
    "x_axis=np.arange(0, x_limit, 40)\n",
    "data=[y for value in x]\n",
    "plt.scatter(x, y, marker=\"o\", facecolor=\"blue\", edgecolors=\"blue\", alpha =0.2, s=x_axis)\n"
   ]
  },
  {
   "cell_type": "code",
   "execution_count": null,
   "metadata": {},
   "outputs": [],
   "source": []
  }
 ],
 "metadata": {
  "kernelspec": {
   "display_name": "Python 3",
   "language": "python",
   "name": "python3"
  },
  "language_info": {
   "codemirror_mode": {
    "name": "ipython",
    "version": 3
   },
   "file_extension": ".py",
   "mimetype": "text/x-python",
   "name": "python",
   "nbconvert_exporter": "python",
   "pygments_lexer": "ipython3",
   "version": "3.7.4"
  }
 },
 "nbformat": 4,
 "nbformat_minor": 2
}
