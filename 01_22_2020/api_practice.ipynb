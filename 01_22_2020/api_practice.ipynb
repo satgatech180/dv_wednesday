{
 "cells": [
  {
   "cell_type": "code",
   "execution_count": 1,
   "metadata": {},
   "outputs": [],
   "source": [
    "import requests\n",
    "#requests is a library to get data from apis\n",
    "#get is a request method(basically a function)\n",
    "#diggernt types of requests: get, post, patch, delete\n",
    "#get is used to get information form the api\n",
    "import json\n",
    "from pprint import pprint\n",
    "import pandas as pd\n",
    "import numpy as np"
   ]
  },
  {
   "cell_type": "code",
   "execution_count": 2,
   "metadata": {},
   "outputs": [
    {
     "name": "stdout",
     "output_type": "stream",
     "text": [
      "{'type': 'success',\n",
      " 'value': {'categories': [],\n",
      "           'id': 290,\n",
      "           'joke': 'There are two types of people in the world... people that '\n",
      "                   'suck, and Chuck Norris.'}}\n"
     ]
    }
   ],
   "source": [
    "url=\"http://api.icndb.com/jokes/random\"\n",
    "one_joke=requests.get(url).json()\n",
    "pprint(one_joke)"
   ]
  },
  {
   "cell_type": "code",
   "execution_count": 4,
   "metadata": {},
   "outputs": [
    {
     "name": "stdout",
     "output_type": "stream",
     "text": [
      "{'categories': [],\n",
      " 'id': 290,\n",
      " 'joke': 'There are two types of people in the world... people that suck, and '\n",
      "         'Chuck Norris.'}\n"
     ]
    }
   ],
   "source": [
    "#access the value of one joke\n",
    "pprint(one_joke[\"value\"])"
   ]
  },
  {
   "cell_type": "code",
   "execution_count": 8,
   "metadata": {},
   "outputs": [
    {
     "name": "stdout",
     "output_type": "stream",
     "text": [
      "{'type': 'success',\n",
      " 'value': [{'categories': [],\n",
      "            'id': 74,\n",
      "            'joke': \"In honor of Chuck Norris, all McDonald's in Texas have an \"\n",
      "                    'even larger size than the super-size. When ordering, just '\n",
      "                    'ask to be Chucksized.'},\n",
      "           {'categories': [],\n",
      "            'id': 198,\n",
      "            'joke': 'Do you know why Baskin Robbins only has 31 flavors? '\n",
      "                    \"Because Chuck Norris doesn't like Fudge Ripple.\"},\n",
      "           {'categories': [],\n",
      "            'id': 42,\n",
      "            'joke': \"Chuck Norris doesn't churn butter. He roundhouse kicks \"\n",
      "                    'the cows and the butter comes straight out.'}]}\n"
     ]
    }
   ],
   "source": [
    "#access multiple jokes\n",
    "murl=\"http://api.icndb.com/jokes/random/3\"\n",
    "multi_joke = requests.get(murl).json()\n",
    "pprint(multi_joke)"
   ]
  },
  {
   "cell_type": "code",
   "execution_count": 10,
   "metadata": {},
   "outputs": [
    {
     "name": "stdout",
     "output_type": "stream",
     "text": [
      "[{'categories': [],\n",
      "  'id': 74,\n",
      "  'joke': \"In honor of Chuck Norris, all McDonald's in Texas have an even \"\n",
      "          'larger size than the super-size. When ordering, just ask to be '\n",
      "          'Chucksized.'},\n",
      " {'categories': [],\n",
      "  'id': 198,\n",
      "  'joke': 'Do you know why Baskin Robbins only has 31 flavors? Because Chuck '\n",
      "          \"Norris doesn't like Fudge Ripple.\"},\n",
      " {'categories': [],\n",
      "  'id': 42,\n",
      "  'joke': \"Chuck Norris doesn't churn butter. He roundhouse kicks the cows and \"\n",
      "          'the butter comes straight out.'}]\n"
     ]
    }
   ],
   "source": [
    "#extarct the data\n",
    "pprint(multi_joke[\"value\"])"
   ]
  },
  {
   "cell_type": "code",
   "execution_count": 15,
   "metadata": {},
   "outputs": [
    {
     "name": "stdout",
     "output_type": "stream",
     "text": [
      "Joke ID: 74\n",
      "Joke Line: In honor of Chuck Norris, all McDonald's in Texas have an even larger size than the super-size. When ordering, just ask to be Chucksized.\n",
      "Joke Line Length(By Character) 137\n",
      "====================================\n",
      "Joke ID: 198\n",
      "Joke Line: Do you know why Baskin Robbins only has 31 flavors? Because Chuck Norris doesn't like Fudge Ripple.\n",
      "Joke Line Length(By Character) 99\n",
      "====================================\n",
      "Joke ID: 42\n",
      "Joke Line: Chuck Norris doesn't churn butter. He roundhouse kicks the cows and the butter comes straight out.\n",
      "Joke Line Length(By Character) 98\n",
      "====================================\n"
     ]
    }
   ],
   "source": [
    "#we now have a list and want to get something from this list, \n",
    "#need a for loop to access each of the dictionaries in the list\n",
    "\n",
    "jokes = multi_joke[\"value\"]\n",
    "\n",
    "#joke = each dictionary before the comma\n",
    "#for each element in this list\n",
    "for element in jokes:\n",
    "#do these things with them\n",
    "    print(f'Joke ID: {element[\"id\"]}')\n",
    "    print(f'Joke Line: {element[\"joke\"]}')\n",
    "    print(f'Joke Line Length(By Character) {len(element[\"joke\"])}')\n",
    "    print('====================================')\n",
    "          "
   ]
  },
  {
   "cell_type": "code",
   "execution_count": 17,
   "metadata": {},
   "outputs": [
    {
     "name": "stdout",
     "output_type": "stream",
     "text": [
      "[[74, \"In honor of Chuck Norris, all McDonald's in Texas have an even larger size than the super-size. When ordering, just ask to be Chucksized.\", 137], [198, \"Do you know why Baskin Robbins only has 31 flavors? Because Chuck Norris doesn't like Fudge Ripple.\", 99], [42, \"Chuck Norris doesn't churn butter. He roundhouse kicks the cows and the butter comes straight out.\", 98]]\n"
     ]
    }
   ],
   "source": [
    "#setup an array for a list for our jokes to be pushed to pandas. then use pandas to plot stuff, then push table to csv and then to matplotlib\n",
    "\n",
    "joke_list=[] #= empty list\n",
    "for joke in multi_joke[\"value\"]:\n",
    "    joke_list.append([joke[\"id\"], joke[\"joke\"], len(joke[\"joke\"])])\n",
    "print(joke_list)"
   ]
  },
  {
   "cell_type": "code",
   "execution_count": null,
   "metadata": {},
   "outputs": [],
   "source": [
    "chuck_data = pd.DataFrame(jokes)"
   ]
  }
 ],
 "metadata": {
  "kernelspec": {
   "display_name": "Python 3",
   "language": "python",
   "name": "python3"
  },
  "language_info": {
   "codemirror_mode": {
    "name": "ipython",
    "version": 3
   },
   "file_extension": ".py",
   "mimetype": "text/x-python",
   "name": "python",
   "nbconvert_exporter": "python",
   "pygments_lexer": "ipython3",
   "version": "3.7.4"
  }
 },
 "nbformat": 4,
 "nbformat_minor": 2
}
